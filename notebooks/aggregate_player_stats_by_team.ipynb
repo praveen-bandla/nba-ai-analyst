{
 "cells": [
  {
   "cell_type": "code",
   "execution_count": 3,
   "id": "c7572aa4",
   "metadata": {},
   "outputs": [
    {
     "name": "stdout",
     "output_type": "stream",
     "text": [
      "Aggregated CSV saved as ../data/all_player_stats_by_team.csv\n"
     ]
    }
   ],
   "source": [
    "import os\n",
    "import pandas as pd\n",
    "\n",
    "# Path to the folder with team CSVs\n",
    "folder = '../data/player_stats_by_team_totals'\n",
    "\n",
    "# List all CSV files in the folder\n",
    "csv_files = [f for f in os.listdir(folder) if f.endswith('.csv')]\n",
    "\n",
    "# Aggregate all data\n",
    "all_dfs = []\n",
    "for file in csv_files:\n",
    "    team_name = file.replace('.csv', '').replace('_', ' ').title()\n",
    "    df = pd.read_csv(os.path.join(folder, file))\n",
    "    df['Team'] = team_name\n",
    "    all_dfs.append(df)\n",
    "\n",
    "# Concatenate all dataframes\n",
    "all_stats = pd.concat(all_dfs, ignore_index=True)\n",
    "\n",
    "# Reset the 'Rank' column to be a new sequential index starting from 1\n",
    "all_stats['Rk'] = range(1, len(all_stats) + 1)\n",
    "\n",
    "# Save to a new CSV\n",
    "all_stats.to_csv('../data/all_player_stats_by_team.csv', index=False)\n",
    "print('Aggregated CSV saved as ../data/all_player_stats_by_team.csv')"
   ]
  }
 ],
 "metadata": {
  "kernelspec": {
   "display_name": "venv",
   "language": "python",
   "name": "python3"
  },
  "language_info": {
   "codemirror_mode": {
    "name": "ipython",
    "version": 3
   },
   "file_extension": ".py",
   "mimetype": "text/x-python",
   "name": "python",
   "nbconvert_exporter": "python",
   "pygments_lexer": "ipython3",
   "version": "3.12.4"
  }
 },
 "nbformat": 4,
 "nbformat_minor": 5
}
