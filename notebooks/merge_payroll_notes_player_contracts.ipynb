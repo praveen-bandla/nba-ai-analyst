{
 "cells": [
  {
   "cell_type": "code",
   "execution_count": null,
   "id": "2b95cab4",
   "metadata": {},
   "outputs": [
    {
     "name": "stdout",
     "output_type": "stream",
     "text": [
      "Merged CSV saved as ../data/player_contracts_with_notes.csv\n"
     ]
    }
   ],
   "source": [
    "'''\n",
    "Merging payroll notes with player contracts\n",
    "'''\n",
    "import pandas as pd\n",
    "import unicodedata\n",
    "from rapidfuzz import process, fuzz\n",
    "\n",
    "contracts = pd.read_csv('../data/player_contracts.csv')\n",
    "\n",
    "try:\n",
    "    notes_raw = pd.read_csv('../data/payroll_notes.csv', encoding='utf-8')\n",
    "except UnicodeDecodeError:\n",
    "    notes_raw = pd.read_csv('../data/payroll_notes.csv', encoding='latin1')\n",
    "\n",
    "notes_raw.columns = [col.strip() for col in notes_raw.columns]\n",
    "contracts.columns = [col.strip() for col in contracts.columns]\n",
    "\n",
    "if 'Unnamed: 1' in contracts.columns:\n",
    "    contracts = contracts[contracts['Unnamed: 1'].ne('Player')]\n",
    "\n",
    "notes_expanded = []\n",
    "current_player = None\n",
    "for _, row in notes_raw.iterrows():\n",
    "    player = row['Player'] if 'Player' in row and pd.notnull(row['Player']) and str(row['Player']).strip() else current_player\n",
    "    current_player = player\n",
    "    for note in str(row['Notes']).split('.'):\n",
    "        note = note.strip().strip(',')\n",
    "        if note:\n",
    "            notes_expanded.append({'Player': player, 'Note': note})\n",
    "\n",
    "notes_df = pd.DataFrame(notes_expanded)\n",
    "\n",
    "def normalize_name(name):\n",
    "    if pd.isnull(name): return ''\n",
    "    return unicodedata.normalize('NFKD', str(name)).encode('ascii', 'ignore').decode('utf-8').lower().strip()\n",
    "\n",
    "contracts['Player_norm'] = contracts['Unnamed: 1'].apply(normalize_name)\n",
    "notes_df['Player_norm'] = notes_df['Player'].apply(normalize_name)\n",
    "\n",
    "def match_player(note_name, contract_names):\n",
    "    match, score, idx = process.extractOne(note_name, contract_names, scorer=fuzz.token_sort_ratio)\n",
    "    return match if score >= 90 else None\n",
    "\n",
    "notes_df['Player_match'] = notes_df['Player_norm'].apply(lambda x: match_player(x, contracts['Player_norm']))\n",
    "\n",
    "notes_grouped = notes_df.dropna(subset=['Player_match']).groupby('Player_match')['Note'].apply(list).reset_index()\n",
    "contracts = contracts.merge(notes_grouped, left_on='Player_norm', right_on='Player_match', how='left')\n",
    "\n",
    "for col in ['Player_norm', 'Player_match']:\n",
    "    if col in contracts.columns:\n",
    "        contracts = contracts.drop(col, axis=1)\n",
    "\n",
    "if contracts.columns.tolist().count('Note') > 1:\n",
    "    note_cols = [col for col in contracts.columns if col == 'Note']\n",
    "    contracts = contracts.drop(note_cols[:-1], axis=1)\n",
    "\n",
    "contracts.to_csv('../data/player_contracts_with_notes.csv', index=False)\n",
    "print('Merged CSV saved as ../data/player_contracts_with_notes.csv')"
   ]
  },
  {
   "cell_type": "code",
   "execution_count": null,
   "id": "f3ba7f29",
   "metadata": {},
   "outputs": [
    {
     "name": "stdout",
     "output_type": "stream",
     "text": [
      "Updated columns and saved as ../data/player_contracts_with_notes.csv\n"
     ]
    }
   ],
   "source": [
    "'''\n",
    "Change column names to more meaningful ones\n",
    "'''\n",
    "import pandas as pd\n",
    "\n",
    "contracts = pd.read_csv('../data/player_contracts_with_notes.csv')\n",
    "\n",
    "rename_map = {'Unnamed: 0': 'id', 'Unnamed: 1': 'name', 'Unnamed: 2': 'team'}\n",
    "contracts = contracts.rename(columns=rename_map)\n",
    "\n",
    "contracts.to_csv('../data/player_contracts_with_notes.csv', index=False)\n",
    "print('Updated columns and saved as ../data/player_contracts_with_notes.csv')"
   ]
  }
 ],
 "metadata": {
  "kernelspec": {
   "display_name": "venv",
   "language": "python",
   "name": "python3"
  },
  "language_info": {
   "codemirror_mode": {
    "name": "ipython",
    "version": 3
   },
   "file_extension": ".py",
   "mimetype": "text/x-python",
   "name": "python",
   "nbconvert_exporter": "python",
   "pygments_lexer": "ipython3",
   "version": "3.12.4"
  }
 },
 "nbformat": 4,
 "nbformat_minor": 5
}
